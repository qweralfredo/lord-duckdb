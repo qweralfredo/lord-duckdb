{
 "cells": [
  {
   "cell_type": "markdown",
   "metadata": {},
   "source": [
    "## 3. Hands On"
   ]
  },
  {
   "cell_type": "code",
   "execution_count": null,
   "metadata": {},
   "outputs": [],
   "source": [
    "!wget https://github.com/duckdb/duckdb/releases/download/v1.1.3/duckdb_cli-windows-amd64.zip "
   ]
  },
  {
   "cell_type": "code",
   "execution_count": null,
   "metadata": {},
   "outputs": [],
   "source": [
    "!unzip duckdb_cli-linux-amd64.zip"
   ]
  },
  {
   "cell_type": "code",
   "execution_count": null,
   "metadata": {},
   "outputs": [],
   "source": [
    "!rm -f duckdb_cli-linux-amd64.zip"
   ]
  },
  {
   "cell_type": "markdown",
   "metadata": {},
   "source": [
    "## Principais consultas:\n",
    "\n",
    "- select * from read_\\[ parquet|json|csv \\](<caminho_arquivo.[parquet|json|csv|qqr-coisa]>);\n",
    "    - Exemplos\n",
    "        * select * from read_json(\"data/aula3/input.json\");\n",
    "        * select * from read_parquet(\"data/aula3/input.parquet\");\n",
    "        * select * from read_csv(\"data/aula3/input.csv\");\n",
    "\n",
    "\n",
    "\n",
    "## Consultando arquivos Externos \n",
    "- Estrutura \n",
    "    - select * from read_csv(URL);\n",
    "\n",
    "- Object Storage\n",
    "    - select * from read_csv(\"s3://url\");\n",
    "\n",
    "\n",
    "    - Obs: Veremos este tópico afundo jajá!  \n",
    "\n",
    "\n",
    "    \n"
   ]
  },
  {
   "cell_type": "markdown",
   "metadata": {},
   "source": [
    "## Rodando o trem na linha de comando\n",
    "\n",
    "- ./duckdb -s \"select * from read_csv(\"data/movie_metadata.csv\");\n"
   ]
  },
  {
   "cell_type": "code",
   "execution_count": 1,
   "metadata": {},
   "outputs": [
    {
     "name": "stderr",
     "output_type": "stream",
     "text": [
      "'.' n�o � reconhecido como um comando interno\n",
      "ou externo, um programa oper�vel ou um arquivo em lotes.\n"
     ]
    }
   ],
   "source": [
    "!./duckdb.exe -c \"select * from read_csv('data/movie_metadata.csv');\""
   ]
  },
  {
   "cell_type": "code",
   "execution_count": null,
   "metadata": {},
   "outputs": [],
   "source": [
    "!./duckdb -c \"describe select * from read_csv('data/movie_metadata.csv');\""
   ]
  },
  {
   "cell_type": "code",
   "execution_count": null,
   "metadata": {},
   "outputs": [],
   "source": [
    "!./duckdb -c \"select * from read_csv('data/aula3/input.csv');\""
   ]
  },
  {
   "cell_type": "markdown",
   "metadata": {},
   "source": [
    "### Hands on:\n",
    "\n",
    "- CLI\n",
    "- Python\n",
    "- Notebook"
   ]
  }
 ],
 "metadata": {
  "kernelspec": {
   "display_name": "Python 3",
   "language": "python",
   "name": "python3"
  },
  "language_info": {
   "codemirror_mode": {
    "name": "ipython",
    "version": 3
   },
   "file_extension": ".py",
   "mimetype": "text/x-python",
   "name": "python",
   "nbconvert_exporter": "python",
   "pygments_lexer": "ipython3",
   "version": "3.11.9"
  }
 },
 "nbformat": 4,
 "nbformat_minor": 2
}
