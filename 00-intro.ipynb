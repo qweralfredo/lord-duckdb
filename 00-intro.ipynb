{
 "cells": [
  {
   "cell_type": "markdown",
   "metadata": {},
   "source": [
    "## Conhecendo o pato\n",
    "\n",
    "* DuckDB é um banco de dados SQL em memória, de alta performance, construído com foco em análises interativas. (OLAP)\n",
    "* Ele suporta a maioria dos comandos SQL e funções do SQLite e PostgreSQL.\n",
    "* O DuckDB é muito rápido para consultas, ele é otimizado para executar consultas SQL em um ambiente de análise de dados.\n",
    "* Ele é uma excelente alternativa para quem deseja executar consultas SQL em um ambiente de desenvolvimento de dados.\n",
    "* DuckDB é uma excelente escolha para análises de dados em Python, R, Julia e outras linguagens de programação.\n",
    "* DuckDB é um banco de dados SQL de código aberto, que pode ser utilizado em ambientes de produção e em aplicações críticas.\n",
    "\n",
    "## Conhecendo o dataset ( Caso você não tenha nenhum )\n",
    "\n",
    "* Um exemplo de dataset que você pode utilizar é o [IMDB 5000 Movie Dataset](https://www.kaggle.com/carolzhangdc/imdb-5000-movie-dataset)\n",
    "\n",
    "* Este dataset contém informações sobre 5000 filmes, incluindo o título, diretor, elenco, orçamento, receita, classificação, popularidade, gênero, idioma, país, etc.\n",
    "\n",
    "* Este conjunto de dados é perfeito para análises de dados, aprendizado de máquina e visualização de dados.\n"
   ]
  }
 ],
 "metadata": {
  "language_info": {
   "name": "python"
  }
 },
 "nbformat": 4,
 "nbformat_minor": 2
}
