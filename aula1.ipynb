{
 "cells": [
  {
   "cell_type": "markdown",
   "metadata": {},
   "source": [
    "## Mastering in Duckdb\n",
    "\n",
    "### Primeiros Passos:\n",
    "\n",
    "* Configuração do Ambiente\n",
    "\n",
    "- Opção 1 - Google Cloud Shell Editor [Clique aqui e divirta-se](https://ssh.cloud.google.com/cloudshell/open?cloudshell_git_repo=https://github.com/qweralfredo/aprendaem-2horas.git)\n",
    "\n",
    "- Opção 2 - Linux / Windows\n",
    "    git clone https://github.com/qweralfredo/aprendaem-2horas.git\n",
    "\n",
    "    - Visual Studio Code: [Download](https://code.visualstudio.com/download)\n",
    "    - [Extensão Notebook para VS Code](https://marketplace.visualstudio.com/items?itemName=ms-toolsai.jupyter-renderers)\n"
   ]
  },
  {
   "cell_type": "code",
   "execution_count": null,
   "metadata": {},
   "outputs": [],
   "source": []
  }
 ],
 "metadata": {
  "language_info": {
   "name": "python"
  }
 },
 "nbformat": 4,
 "nbformat_minor": 2
}
