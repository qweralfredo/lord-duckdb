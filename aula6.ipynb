{
 "cells": [
  {
   "cell_type": "markdown",
   "metadata": {},
   "source": [
    "## Cli Skills\n",
    "- -c\n",
    "- -s\n",
    "- cat\n",
    "- autocomplete\n",
    "- motherduck\n"
   ]
  },
  {
   "cell_type": "code",
   "execution_count": null,
   "metadata": {},
   "outputs": [],
   "source": [
    "!./duckdb -c \"select * from read_csv('data/movie_metadata.csv');\""
   ]
  },
  {
   "cell_type": "code",
   "execution_count": null,
   "metadata": {},
   "outputs": [],
   "source": [
    "!./duckdb -s \".read data/aula6/select.sql\""
   ]
  },
  {
   "cell_type": "code",
   "execution_count": null,
   "metadata": {},
   "outputs": [],
   "source": [
    "!find -type f  |./duckdb -c \"select *  from read_csv_auto('/dev/stdin', header=false);\""
   ]
  },
  {
   "cell_type": "code",
   "execution_count": null,
   "metadata": {},
   "outputs": [],
   "source": [
    "!cat data/movie_metadata.csv | ./duckdb -c \"select * from read_csv_auto('/dev/stdin')\""
   ]
  },
  {
   "cell_type": "code",
   "execution_count": 8,
   "metadata": {},
   "outputs": [
    {
     "name": "stdout",
     "output_type": "stream",
     "text": [
      "┌──────────────────────┐\n",
      "│       column0        │\n",
      "│       varchar        │\n",
      "├──────────────────────┤\n",
      "│ 00-intro.ipynb       │\n",
      "│ README.md            │\n",
      "│ aula1.ipynb          │\n",
      "│ aula2.ipynb          │\n",
      "│ aula3.ipynb          │\n",
      "│ aula4.ipynb          │\n",
      "│ aula4.py             │\n",
      "│ aula5.ipynb          │\n",
      "│ aula6.ipynb          │\n",
      "│ data                 │\n",
      "│ duckdb               │\n",
      "│ pyiceberg_catalog.db │\n",
      "├──────────────────────┤\n",
      "│       12 rows        │\n",
      "└──────────────────────┘\n"
     ]
    }
   ],
   "source": [
    "!ls  |./duckdb -c \"select *  from read_csv_auto('/dev/stdin',header=false) order by column0 asc ;\""
   ]
  },
  {
   "cell_type": "code",
   "execution_count": null,
   "metadata": {},
   "outputs": [],
   "source": [
    "%%sql\n",
    "\n",
    "install autocomplete;\n",
    "load autocomplete;\n",
    "\n",
    "create table teste as select 1;\n",
    "\n"
   ]
  }
 ],
 "metadata": {
  "kernelspec": {
   "display_name": "Python 3",
   "language": "python",
   "name": "python3"
  },
  "language_info": {
   "codemirror_mode": {
    "name": "ipython",
    "version": 3
   },
   "file_extension": ".py",
   "mimetype": "text/x-python",
   "name": "python",
   "nbconvert_exporter": "python",
   "pygments_lexer": "ipython3",
   "version": "3.10.13"
  }
 },
 "nbformat": 4,
 "nbformat_minor": 2
}
