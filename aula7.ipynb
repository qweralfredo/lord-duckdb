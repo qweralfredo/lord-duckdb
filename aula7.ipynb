{
 "cells": [
  {
   "cell_type": "code",
   "execution_count": null,
   "metadata": {},
   "outputs": [],
   "source": [
    "!pip install duckdb --quiet\n",
    "!pip install pandas --quiet\n",
    "!pip install pyarrow --quiet"
   ]
  },
  {
   "cell_type": "code",
   "execution_count": null,
   "metadata": {},
   "outputs": [],
   "source": [
    "import pandas as pd\n",
    "from pyarrow import dataset as ds\n",
    "import duckdb\n",
    "\n",
    "acsv = ds.dataset('/workspaces/aprendaem-2horas/lord-duckdb/data/aula4/yellow_tripdata_2017-01.parquet')\n",
    "working_columns = [\"VendorID\",\"tpep_pickup_datetime\",\"tpep_dropoff_datetime\",\"passenger_count\",\"trip_distance\",\"RatecodeID\",\"store_and_fwd_flag\",\"PULocationID\",\"DOLocationID\",\"payment_type\",\"fare_amount\",\"extra\",\"mta_tax\",\"tip_amount\",\"tolls_amount\",\"improvement_surcharge\",\"total_amount\",\"congestion_surcharge\",\"airport_fee\"]\n",
    "dataset_scanner = acsv.scanner(columns=working_columns)\n",
    "nyc_table = dataset_scanner.to_table()\n",
    "con = duckdb.connect(database='lord-duckdb/data/aula4.duckdb', read_only=False)\n",
    "con.execute(\"SET threads = 4;\")\n",
    "con.execute(\"PRAGMA enable_optimizer;\")\n",
    "con.execute(\"SET memory_limit = '1GB';\")\n",
    "con.execute(\"SET temp_directory = '/workspaces/aprendaem-2horas/lord-duckdb/data/tmp/';\")\n",
    "df = con.execute(\"SELECT * FROM nyc_table limit 10 \").df()\n",
    "print(df)\n"
   ]
  }
 ],
 "metadata": {
  "kernelspec": {
   "display_name": "Python 3",
   "language": "python",
   "name": "python3"
  },
  "language_info": {
   "codemirror_mode": {
    "name": "ipython",
    "version": 3
   },
   "file_extension": ".py",
   "mimetype": "text/x-python",
   "name": "python",
   "nbconvert_exporter": "python",
   "pygments_lexer": "ipython3",
   "version": "3.11.9"
  }
 },
 "nbformat": 4,
 "nbformat_minor": 2
}
