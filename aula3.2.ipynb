{
 "cells": [
  {
   "cell_type": "markdown",
   "metadata": {},
   "source": [
    "## 3.1 - Views e CTAs\n",
    "\n",
    "- Utilizando views para simplificar a fonte do dado\n",
    "- Materializando os dados com CTAs"
   ]
  },
  {
   "cell_type": "markdown",
   "metadata": {},
   "source": [
    "## Views \n",
    "\n",
    "- Para simplificar o carregamento dos dados e criar uma nomenclatura base no seu banco de dados\n",
    "- Complexidade das Consultas e/ou funções das consultas\n",
    "- Outras fontes de dados\n",
    "- Performace ok!"
   ]
  },
  {
   "cell_type": "code",
   "execution_count": null,
   "metadata": {},
   "outputs": [],
   "source": [
    "!pip install duckdb --quiet\n",
    "!pip install jupysql pandas duckdb-engine  --quiet\n",
    "%pip install magic_duckdb --upgrade  --quiet\n",
    "%load_ext magic_duckdb\n",
    "%config SqlMagic.autopandas = True"
   ]
  },
  {
   "cell_type": "code",
   "execution_count": null,
   "metadata": {},
   "outputs": [],
   "source": [
    "%dql create or replace view vw_movies as  select * from read_csv('data/movie_metadata.csv');"
   ]
  },
  {
   "cell_type": "code",
   "execution_count": null,
   "metadata": {},
   "outputs": [],
   "source": [
    "%dql describe select *  from vw_movies;"
   ]
  },
  {
   "cell_type": "code",
   "execution_count": null,
   "metadata": {},
   "outputs": [],
   "source": [
    "%dql select title_year, count(*) as total from vw_movies group by title_year order by total desc limit 10;"
   ]
  },
  {
   "cell_type": "markdown",
   "metadata": {},
   "source": [
    "## CTAs\n",
    "\n",
    "- Performace ruim na view (ou query)\n",
    "- Query muito complexa\n",
    "- Query muito lenta\n",
    "- Query muito pesada\n",
    "- Necessidade de otimização (indices, etc)\n",
    "- Dimensões e Fatos\n",
    "- Arquitetura Medalha (bronze, prata,ouro)"
   ]
  },
  {
   "cell_type": "code",
   "execution_count": null,
   "metadata": {},
   "outputs": [],
   "source": [
    "%dql create or replace table cta_total_by_year as select title_year, count(*) as total from vw_movies group by title_year;"
   ]
  },
  {
   "cell_type": "code",
   "execution_count": null,
   "metadata": {},
   "outputs": [],
   "source": [
    "%dql select * from cta_total_by_year;"
   ]
  }
 ],
 "metadata": {
  "kernelspec": {
   "display_name": "Python 3",
   "language": "python",
   "name": "python3"
  },
  "language_info": {
   "codemirror_mode": {
    "name": "ipython",
    "version": 3
   },
   "file_extension": ".py",
   "mimetype": "text/x-python",
   "name": "python",
   "nbconvert_exporter": "python",
   "pygments_lexer": "ipython3",
   "version": "3.11.9"
  }
 },
 "nbformat": 4,
 "nbformat_minor": 2
}
