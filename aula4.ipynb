{
 "cells": [
  {
   "cell_type": "markdown",
   "metadata": {},
   "source": [
    "## Extensões na Prática\n",
    "\n",
    "- O que são extensões?\n",
    "- Documentação [https://duckdb.org/docs/extensions/overview.html](https://duckdb.org/docs/extensions/overview.html)\n",
    "- Oficiais [https://duckdb.org/docs/extensions/official_extensions](https://duckdb.org/docs/extensions/official_extensions)\n",
    "- Hands On"
   ]
  },
  {
   "cell_type": "code",
   "execution_count": null,
   "metadata": {},
   "outputs": [],
   "source": [
    "!pip install duckdb --quiet\n",
    "!pip install pandas --quiet "
   ]
  },
  {
   "cell_type": "code",
   "execution_count": null,
   "metadata": {},
   "outputs": [],
   "source": [
    "!pip install magic_duckdb jupysql \n",
    "%load_ext magic_duckdb\n",
    "%config SqlMagic.autopandas = True"
   ]
  },
  {
   "cell_type": "code",
   "execution_count": null,
   "metadata": {},
   "outputs": [],
   "source": [
    "%dql select  * from  (values (1, 'a'), (2, 'b')) as t(a, b);"
   ]
  },
  {
   "cell_type": "code",
   "execution_count": null,
   "metadata": {},
   "outputs": [],
   "source": [
    "%%time \n",
    "import duckdb\n",
    "con = duckdb.connect(database=':memory:', read_only=False)\n",
    "query = con.execute(\"SELECT *  FROM nyc_table limit 10  \").fetch_arrow_table()\n",
    "query.to_pandas()"
   ]
  },
  {
   "cell_type": "code",
   "execution_count": null,
   "metadata": {},
   "outputs": [],
   "source": [
    "#autocompleteno cli "
   ]
  },
  {
   "cell_type": "markdown",
   "metadata": {},
   "source": [
    "## AWS \n",
    "\n",
    "- INSTALL aws;\n",
    "- INSTALL httpfs;\n",
    "- LOAD aws;\n",
    "- LOAD httpfs;\n",
    "    - [Referência](https://duckdb.org/docs/extensions/httpfs/s3api.html)"
   ]
  },
  {
   "cell_type": "code",
   "execution_count": null,
   "metadata": {},
   "outputs": [],
   "source": [
    "%%dql\n",
    "\n",
    "CREATE SECRET secretGCP (\n",
    "    TYPE GCS,\n",
    "    KEY_ID 'GOO****7F5',\n",
    "    SECRET '*****'\n",
    ");\n",
    "\n",
    "SELECT * FROM read_parquet('gcs://lance-db/teste.parquet');"
   ]
  },
  {
   "cell_type": "code",
   "execution_count": null,
   "metadata": {},
   "outputs": [],
   "source": [
    "%%dql\n",
    "\n",
    "SELECT * FROM read_parquet('gcs://lance-db/teste.parquet');"
   ]
  },
  {
   "cell_type": "markdown",
   "metadata": {},
   "source": [
    "## httpfs \n",
    "- INSTALL httpfs;\n",
    "- LOAD httpfs;"
   ]
  },
  {
   "cell_type": "code",
   "execution_count": null,
   "metadata": {},
   "outputs": [],
   "source": [
    "%dql\n",
    "\n",
    "select * from 'https://d37ci6vzurychx.cloudfront.net/trip-data/yellow_tripdata_2024-01.parquet' limit 10;\n",
    "\n",
    "SELECT * FROM read_parquet(['https://d37ci6vzurychx.cloudfront.net/trip-data/green_tripdata_2024-02.parquet','https://d37ci6vzurychx.cloudfront.net/trip-data/green_tripdata_2024-01.parquet']);"
   ]
  },
  {
   "cell_type": "markdown",
   "metadata": {},
   "source": [
    "## Azure\n",
    "- [Referência](https://duckdb.org/docs/extensions/azure)\n"
   ]
  },
  {
   "cell_type": "code",
   "execution_count": null,
   "metadata": {},
   "outputs": [],
   "source": [
    "%dql\n",
    "INSTALL azure;\n",
    "LOAD azure;\n",
    "\n",
    "CREATE SECRET secret1 (\n",
    "    TYPE AZURE,\n",
    "    CONNECTION_STRING '⟨value⟩'\n",
    ");\n",
    "\n",
    "\n",
    "SELECT count(*)\n",
    "FROM 'az://⟨my_container⟩/⟨path⟩/⟨my_file⟩.⟨parquet_or_csv⟩';\n",
    "\n",
    "\n",
    "SELECT count(*)\n",
    "FROM 'az://⟨my_storage_account⟩.blob.core.windows.net/⟨my_container⟩/⟨path⟩/⟨my_file⟩.⟨parquet_or_csv⟩';\n",
    "\n",
    "\n",
    "SELECT count(*)\n",
    "FROM 'abfss://⟨my_filesystem⟩/⟨path⟩/⟨my_file⟩.⟨parquet_or_csv⟩';\n",
    "\n",
    "SELECT count(*)\n",
    "FROM 'abfss://⟨my_filesystem⟩/⟨path⟩/⟨my_file⟩.⟨parquet_or_csv⟩';\n",
    "\n",
    "\n"
   ]
  },
  {
   "cell_type": "markdown",
   "metadata": {},
   "source": [
    "## Delta\n",
    "\n",
    "- [Referência](https://duckdb.org/docs/extensions/delta)\n",
    "- Nativo a partir da versão 1.0"
   ]
  },
  {
   "cell_type": "code",
   "execution_count": null,
   "metadata": {},
   "outputs": [],
   "source": [
    "!pip install deltalake --quiet\n",
    "!pip install pyarrow --quiet\n",
    "!pip install pandas --quiet\n",
    "!pip install duckdb --quiet"
   ]
  },
  {
   "cell_type": "code",
   "execution_count": null,
   "metadata": {},
   "outputs": [],
   "source": [
    "\n",
    "import pandas as pd\n",
    "from deltalake import DeltaTable, write_deltalake\n",
    "from pyarrow import dataset as ds\n",
    "import duckdb\n",
    "acsv = ds.dataset('data/aula4/yellow_tripdata_2017-01.parquet')\n",
    "working_columns = [\"VendorID\",\"tpep_pickup_datetime\",\"tpep_dropoff_datetime\",\"passenger_count\",\"trip_distance\",\"RatecodeID\",\"store_and_fwd_flag\",\"PULocationID\",\"DOLocationID\",\"payment_type\",\"fare_amount\",\"extra\",\"mta_tax\",\"tip_amount\",\"tolls_amount\",\"improvement_surcharge\",\"total_amount\",\"congestion_surcharge\",\"airport_fee\"]\n",
    "dataset_scanner = acsv.scanner(columns=working_columns)\n",
    "nyc_table = dataset_scanner.to_table()\n",
    "\n",
    "con = duckdb.connect()\n",
    "query = con.execute(\"SELECT *  FROM nyc_table limit 10  \")\n",
    "df = query.df()\n",
    "\n",
    "write_deltalake('data/aula4/delta', df, mode='overwrite')\n",
    "\n"
   ]
  },
  {
   "cell_type": "code",
   "execution_count": null,
   "metadata": {},
   "outputs": [],
   "source": [
    "con.execute(\"INSTALL delta; \")\n",
    "con.execute(\"LOAD delta; \")\n",
    "query = con.execute(\"SELECT * FROM delta_scan('data/aula4/delta') ORDER BY 1; \")\n",
    "df = query.df()\n",
    "df"
   ]
  },
  {
   "cell_type": "markdown",
   "metadata": {},
   "source": [
    "## Spatial\n",
    "\n",
    "    - [Kepler](https://kepler.gl/demo)"
   ]
  },
  {
   "cell_type": "code",
   "execution_count": null,
   "metadata": {},
   "outputs": [],
   "source": [
    "#install duckdb version 0.10\n",
    "!pip install duckdb --quiet\n",
    "!pip install geopandas --quiet \n",
    "!pip install mapclassify --quiet "
   ]
  },
  {
   "cell_type": "code",
   "execution_count": null,
   "metadata": {},
   "outputs": [],
   "source": [
    "\n",
    "import duckdb\n",
    "import geopandas as gpd\n",
    "import pandas as pd "
   ]
  },
  {
   "cell_type": "code",
   "execution_count": null,
   "metadata": {},
   "outputs": [],
   "source": [
    "con = duckdb.connect()\n",
    "con.execute(\"INSTALL spatial;\")\n",
    "con.execute(\"LOAD spatial;\")  "
   ]
  },
  {
   "cell_type": "code",
   "execution_count": null,
   "metadata": {},
   "outputs": [],
   "source": [
    "\n",
    "con.execute(\" copy (    SELECT  ST_GeomFromWKB(geometry) as  geometry, * exclude geometry  FROM 'data/aula4/spatial/cities.parquet' where country = 'UGA'  ) TO 'data/aula4/spatial/uga.geojson' WITH (FORMAT GDAL, DRIVER 'GeoJSON')  \")\n",
    "con.execute(\" copy (    SELECT  ST_GeomFromWKB(geometry) as  geometry, * exclude geometry  FROM 'data/aula4/spatial/cities.parquet' where country = 'BRA'  ) TO 'data/aula4/spatial/bra.geojson' WITH (FORMAT GDAL, DRIVER 'GeoJSON')  \")"
   ]
  },
  {
   "cell_type": "code",
   "execution_count": null,
   "metadata": {},
   "outputs": [],
   "source": [
    "gpd.read_file('data/aula4/spatial/bra.geojson').explore()"
   ]
  },
  {
   "cell_type": "code",
   "execution_count": null,
   "metadata": {},
   "outputs": [],
   "source": [
    "gpd.read_file('data/aula4/spatial/uga.geojson').explore()"
   ]
  },
  {
   "cell_type": "markdown",
   "metadata": {},
   "source": [
    "## Full Text Search (FTS )\n",
    "    - create_fts_index\n",
    "    - schema com sufixo da tabela é criado Ex: fts_main_[nome da tabela]\n",
    "    - Alteração de colunas = Manutenção do index (recriação do index :( )"
   ]
  },
  {
   "cell_type": "code",
   "execution_count": null,
   "metadata": {},
   "outputs": [],
   "source": [
    "#create a table livros in duckdb \n",
    "con.execute(\"CREATE TABLE livros (id INTEGER, titulo VARCHAR, autor VARCHAR, descricao VARCHAR);\")"
   ]
  },
  {
   "cell_type": "code",
   "execution_count": null,
   "metadata": {},
   "outputs": [],
   "source": [
    "!pip install faker --quiet"
   ]
  },
  {
   "cell_type": "code",
   "execution_count": null,
   "metadata": {},
   "outputs": [],
   "source": [
    "from faker import Faker\n",
    "\n",
    "\n",
    "fake = Faker()\n",
    "\n",
    "# Generate fake data\n",
    "data = []\n",
    "for _ in range(1000):\n",
    "    id = fake.random_int(min=1, max=1000)\n",
    "    titulo = fake.sentence(nb_words=5)\n",
    "    autor = fake.name()\n",
    "    descricao = fake.paragraph()\n",
    "    data.append((id, titulo, autor, descricao))\n",
    "\n",
    "# Insert data into the table\n",
    "with con.cursor() as cursor:\n",
    "    cursor.executemany(\"INSERT INTO livros (id, titulo, autor, descricao) VALUES (?, ?, ?, ?)\", data)\n",
    "con.commit()\n"
   ]
  },
  {
   "cell_type": "code",
   "execution_count": null,
   "metadata": {},
   "outputs": [],
   "source": [
    "con.execute(\"SELECT * FROM livros\").df()"
   ]
  },
  {
   "cell_type": "code",
   "execution_count": null,
   "metadata": {},
   "outputs": [],
   "source": [
    "con.execute('''PRAGMA create_fts_index(\n",
    "    'livros', 'id', 'titulo', 'autor', 'descricao'\n",
    ");''')"
   ]
  },
  {
   "cell_type": "code",
   "execution_count": null,
   "metadata": {},
   "outputs": [],
   "source": [
    "con.execute(\"INSTALL fts;\")\n",
    "con.execute(\"LOAD fts;\") \n",
    "\n",
    "con.execute('''  SELECT *\n",
    "FROM (\n",
    "    SELECT *, fts_main_livros.match_bm25(\n",
    "        id,\n",
    "        'Party',\n",
    "        fields := 'titulo'\n",
    "    ) AS score\n",
    "    FROM livros\n",
    ") sq\n",
    "WHERE score IS NOT NULL \n",
    "ORDER BY score DESC;   ''').df()"
   ]
  },
  {
   "cell_type": "code",
   "execution_count": null,
   "metadata": {},
   "outputs": [],
   "source": [
    "con.execute(''' SELECT *\n",
    "FROM (\n",
    "    SELECT *, fts_main_livros.match_bm25(\n",
    "        id,\n",
    "        'strong politics'\n",
    "    ) AS score\n",
    "    FROM livros\n",
    ") sq\n",
    "WHERE score IS NOT NULL\n",
    "ORDER BY score DESC; ''').df()"
   ]
  },
  {
   "cell_type": "markdown",
   "metadata": {},
   "source": [
    "## Iceberg\n",
    "\n",
    "    - [Referência](https://iceberg.apache.org/)\n",
    "    - [Extensão](https://duckdb.org/docs/extensions/iceberg.html)\n",
    "    - Somente Leitura no Duckdb (v.1.0.0)"
   ]
  },
  {
   "cell_type": "code",
   "execution_count": null,
   "metadata": {},
   "outputs": [],
   "source": [
    "!wget https://duckdb.org/data/iceberg_data.zip\n",
    "!unzip iceberg_data.zip\n",
    "!rm -f iceberg_data.zip\n",
    "!cp -r iceberg_data data/aula4/iceberg_data"
   ]
  },
  {
   "cell_type": "code",
   "execution_count": null,
   "metadata": {},
   "outputs": [],
   "source": [
    "import duckdb\n",
    "con = duckdb.connect()\n",
    "con.execute(\"INSTALL iceberg;\")\n",
    "con.execute(\"LOAD iceberg;\")\n",
    "%load_ext sql\n",
    "conn = duckdb.connect()\n",
    "%sql conn --alias duckdb"
   ]
  },
  {
   "cell_type": "code",
   "execution_count": null,
   "metadata": {},
   "outputs": [],
   "source": [
    "%%sql \n",
    "install iceberg;\n",
    "load iceberg;\n",
    "SELECT * FROM iceberg_scan('data/aula4/iceberg/lineitem_iceberg', allow_moved_paths = true);"
   ]
  },
  {
   "cell_type": "markdown",
   "metadata": {},
   "source": [
    "## Postgres"
   ]
  },
  {
   "cell_type": "code",
   "execution_count": null,
   "metadata": {},
   "outputs": [],
   "source": [
    "import duckdb\n",
    "con = duckdb.connect() \n",
    "%load_ext sql\n",
    "conn = duckdb.connect()\n",
    "%sql conn --alias duckdb"
   ]
  },
  {
   "cell_type": "code",
   "execution_count": null,
   "metadata": {},
   "outputs": [],
   "source": [
    "%%sql \n",
    "\n",
    "INSTALL postgres;\n",
    "LOAD postgres;\n",
    "ATTACH 'dbname=postgres user=lord password=postgres123 host=127.0.0.1' AS db (TYPE POSTGRES);"
   ]
  },
  {
   "cell_type": "code",
   "execution_count": null,
   "metadata": {},
   "outputs": [],
   "source": [
    "%%sql \n",
    "SHOW ALL TABLES;\n"
   ]
  },
  {
   "cell_type": "code",
   "execution_count": null,
   "metadata": {},
   "outputs": [],
   "source": [
    "%%sql \n",
    "\n",
    "from 'data/aula4/spatial/cities.csv'  ;"
   ]
  },
  {
   "cell_type": "code",
   "execution_count": null,
   "metadata": {
    "vscode": {
     "languageId": "sql"
    }
   },
   "outputs": [],
   "source": [
    "%%sql\n",
    "\n",
    "CALL postgres_execute('db', 'CREATE TABLE cities (\n",
    "    id SERIAL PRIMARY KEY,\n",
    "    name VARCHAR(255),\n",
    "    country VARCHAR(255),\n",
    "    latitude FLOAT,\n",
    "    longitude FLOAT,\n",
    "    population INTEGER\n",
    ");');\n",
    "\n"
   ]
  },
  {
   "cell_type": "code",
   "execution_count": null,
   "metadata": {
    "vscode": {
     "languageId": "sql"
    }
   },
   "outputs": [],
   "source": [
    "%%sql\n",
    "\n",
    "copy db.cities FROM  'data/aula4/spatial/cities.csv';"
   ]
  },
  {
   "cell_type": "code",
   "execution_count": null,
   "metadata": {
    "vscode": {
     "languageId": "sql"
    }
   },
   "outputs": [],
   "source": [
    "%%sql\n",
    "\n",
    "select * from db.cities;"
   ]
  },
  {
   "cell_type": "code",
   "execution_count": null,
   "metadata": {},
   "outputs": [],
   "source": [
    "#mysql"
   ]
  },
  {
   "cell_type": "code",
   "execution_count": null,
   "metadata": {},
   "outputs": [],
   "source": [
    "%%sql\n",
    "INSTALL MYSQL;\n",
    "LOAD MYSQL;\n",
    "ATTACH 'host=localhost user=root   password=mysql123 database=lord_duckdb_mysql' AS mysqldb (TYPE MYSQL);\n",
    "USE mysqldb;"
   ]
  },
  {
   "cell_type": "code",
   "execution_count": null,
   "metadata": {},
   "outputs": [],
   "source": [
    "%%sql\n",
    "\n",
    "install spatial;\n",
    "load spatial;\n",
    " "
   ]
  },
  {
   "cell_type": "code",
   "execution_count": null,
   "metadata": {},
   "outputs": [],
   "source": [
    "%%sql\n",
    "\n",
    "CREATE TABLE mysqldb.cities (\n",
    "    id INT  PRIMARY KEY,\n",
    "    name VARCHAR(255),\n",
    "    country VARCHAR(255),\n",
    "    latitude FLOAT,\n",
    "    longitude FLOAT,\n",
    "    population INT\n",
    ");"
   ]
  },
  {
   "cell_type": "code",
   "execution_count": null,
   "metadata": {},
   "outputs": [],
   "source": [
    "%%sql \n",
    "\n",
    "insert into mysqldb.cities select *\n",
    "  from ST_Read('data/aula4/spatial/cities.csv') where country = 'UGA' ;\n",
    "\n"
   ]
  },
  {
   "cell_type": "code",
   "execution_count": null,
   "metadata": {},
   "outputs": [],
   "source": [
    "%%sql\n",
    "\n",
    "from mysqldb.cities "
   ]
  }
 ],
 "metadata": {
  "kernelspec": {
   "display_name": "Python 3",
   "language": "python",
   "name": "python3"
  },
  "language_info": {
   "codemirror_mode": {
    "name": "ipython",
    "version": 3
   },
   "file_extension": ".py",
   "mimetype": "text/x-python",
   "name": "python",
   "nbconvert_exporter": "python",
   "pygments_lexer": "ipython3",
   "version": "3.10.13"
  }
 },
 "nbformat": 4,
 "nbformat_minor": 2
}
