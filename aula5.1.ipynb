{
 "cells": [
  {
   "cell_type": "markdown",
   "metadata": {},
   "source": [
    "Hello Docker\n",
    "\n",
    "-Google Cloud Shell Editor [Clique aqui e divirta-se novamente](https://ssh.cloud.google.com/cloudshell/open?cloudshell_git_repo=https://github.com/qweralfredo/lord-duckdb.git)\n",
    "\n",
    "\n",
    "minio"
   ]
  }
 ],
 "metadata": {
  "language_info": {
   "name": "python"
  }
 },
 "nbformat": 4,
 "nbformat_minor": 2
}
