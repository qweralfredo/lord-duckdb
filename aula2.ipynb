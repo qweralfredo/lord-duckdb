{
 "cells": [
  {
   "cell_type": "markdown",
   "metadata": {},
   "source": [
    "## Aula 2 - Hello Duckdb\n",
    "\n",
    "* Instalando o pato! [Link Oficial](https://duckdb.org/docs/installation/index)\n",
    "    - Executável (duckdb.exe no windows ou ./duckdb no linux)"
   ]
  },
  {
   "cell_type": "code",
   "execution_count": null,
   "metadata": {},
   "outputs": [],
   "source": [
    "!pip install duckdb"
   ]
  },
  {
   "cell_type": "markdown",
   "metadata": {},
   "source": [
    "## Facilitando a vida com %dql\n",
    "\n",
    "* %dql é uma magic function que permite executar queries SQL diretamente no Jupyter Notebook\n",
    "    - Instalando a extensão do jupyter\n",
    "        - !pip install duckdb\n",
    "        - !pip install jupysql pandas duckdb-engine \n",
    "        - %pip install magic_duckdb --upgrade\n",
    "        - %load_ext magic_duckdb\n",
    "        - %config SqlMagic.autopandas = True (para retornar os resultados como dataframes pandas)\n",
    "\n"
   ]
  },
  {
   "cell_type": "code",
   "execution_count": null,
   "metadata": {},
   "outputs": [],
   "source": [
    "!pip install duckdb --quiet\n",
    "!pip install jupysql pandas duckdb-engine  --quiet\n",
    "%pip install magic_duckdb --upgrade  --quiet\n",
    "%load_ext magic_duckdb\n",
    "%config SqlMagic.autopandas = True"
   ]
  },
  {
   "cell_type": "code",
   "execution_count": null,
   "metadata": {},
   "outputs": [],
   "source": [
    "%dql select  * from  (values (1, 'a'), (2, 'b')) as t(a, b);"
   ]
  },
  {
   "cell_type": "markdown",
   "metadata": {},
   "source": [
    "## Execução do Duckdb\n",
    "\n",
    "- Exemplo no Linux \n",
    "    - ./duckdb \n",
    "\n",
    "- Exemplo no windows\n",
    "    - duckdb.exe\n",
    "\n",
    "- Abrindo ou criando um banco de dados\n",
    "    - ./duckdb nomedobanco.duckdb\n",
    "\n",
    "- Abrindo ou criando um banco no python\n",
    "    - import duckdb\n",
    "    - cnn = duckdb.connect(database='nomedobanco.duckdb')\n",
    "\n",
    "### Obs: Quando não há nome do banco de dados, o pato irá rodar na memória"
   ]
  },
  {
   "cell_type": "markdown",
   "metadata": {},
   "source": [
    "``` ./duckdb"
   ]
  },
  {
   "cell_type": "markdown",
   "metadata": {},
   "source": [
    "``` ./duckdb ou duckdb.exe"
   ]
  }
 ],
 "metadata": {
  "kernelspec": {
   "display_name": "Python 3",
   "language": "python",
   "name": "python3"
  },
  "language_info": {
   "codemirror_mode": {
    "name": "ipython",
    "version": 3
   },
   "file_extension": ".py",
   "mimetype": "text/x-python",
   "name": "python",
   "nbconvert_exporter": "python",
   "pygments_lexer": "ipython3",
   "version": "3.10.12"
  }
 },
 "nbformat": 4,
 "nbformat_minor": 2
}
